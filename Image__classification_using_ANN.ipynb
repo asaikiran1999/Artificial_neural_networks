{
  "nbformat": 4,
  "nbformat_minor": 0,
  "metadata": {
    "colab": {
      "name": "Image _classification_using_ANN.ipynb",
      "provenance": []
    },
    "kernelspec": {
      "name": "python3",
      "display_name": "Python 3"
    },
    "language_info": {
      "name": "python"
    }
  },
  "cells": [
    {
      "cell_type": "markdown",
      "source": [
        "#**IMAGE CLASSIFICATION USING ANN**"
      ],
      "metadata": {
        "id": "QD192d4bCH7C"
      }
    },
    {
      "cell_type": "markdown",
      "source": [
        "1.Importing usefull libraries"
      ],
      "metadata": {
        "id": "FkTE3G-8CWUE"
      }
    },
    {
      "cell_type": "code",
      "execution_count": 1,
      "metadata": {
        "id": "rELr6IV9Bpfx"
      },
      "outputs": [],
      "source": [
        "import tensorflow as tf"
      ]
    },
    {
      "cell_type": "markdown",
      "source": [
        "2. Loading the dataset"
      ],
      "metadata": {
        "id": "zoM3Gr0sCxGh"
      }
    },
    {
      "cell_type": "code",
      "source": [
        "mnist =tf.keras.datasets.mnist\n",
        "(x_train,y_train),(x_test,y_test)=mnist.load_data()\n",
        "#converting the pixels into 0-1 form\n",
        "x_train,x_test=x_train/255,x_test/255"
      ],
      "metadata": {
        "colab": {
          "base_uri": "https://localhost:8080/"
        },
        "id": "HRRIOYKpCjPC",
        "outputId": "61dc55f6-ac43-4bc9-9803-57465547ccea"
      },
      "execution_count": 3,
      "outputs": [
        {
          "output_type": "stream",
          "name": "stdout",
          "text": [
            "Downloading data from https://storage.googleapis.com/tensorflow/tf-keras-datasets/mnist.npz\n",
            "11493376/11490434 [==============================] - 0s 0us/step\n",
            "11501568/11490434 [==============================] - 0s 0us/step\n"
          ]
        }
      ]
    },
    {
      "cell_type": "code",
      "source": [
        "x_train.shape"
      ],
      "metadata": {
        "colab": {
          "base_uri": "https://localhost:8080/"
        },
        "id": "gFNrd1wgDCS8",
        "outputId": "2147ae5d-6563-4244-b243-3bcf81aed005"
      },
      "execution_count": 4,
      "outputs": [
        {
          "output_type": "execute_result",
          "data": {
            "text/plain": [
              "(60000, 28, 28)"
            ]
          },
          "metadata": {},
          "execution_count": 4
        }
      ]
    },
    {
      "cell_type": "markdown",
      "source": [
        "3.Build the model "
      ],
      "metadata": {
        "id": "Ylodht3BOUdk"
      }
    },
    {
      "cell_type": "code",
      "source": [
        "model =tf.keras.models.Sequential([\n",
        "    tf.keras.layers.Flatten(input_shape=(28,28)),\n",
        "    tf.keras.layers.Dense(128,activation='relu'),\n",
        "    tf.keras.layers.Dropout(0.2),\n",
        "    tf.keras.layers.Dense(10,activation='softmax')\n",
        "])"
      ],
      "metadata": {
        "id": "UpQv6ru4OUJv"
      },
      "execution_count": 5,
      "outputs": []
    },
    {
      "cell_type": "markdown",
      "source": [
        "4.Compiling the model"
      ],
      "metadata": {
        "id": "tQ_w8ttDPPXd"
      }
    },
    {
      "cell_type": "code",
      "source": [
        "from tensorflow.python import metrics\n",
        "model.compile(optimizer='adam',\n",
        "              loss='sparse_categorical_crossentropy',\n",
        "              metrics=['accuracy'])"
      ],
      "metadata": {
        "id": "dGv1aBH2D9ax"
      },
      "execution_count": 6,
      "outputs": []
    },
    {
      "cell_type": "markdown",
      "source": [
        "5.Training the model"
      ],
      "metadata": {
        "id": "H8uC_ZVoPytc"
      }
    },
    {
      "cell_type": "code",
      "source": [
        "r = model.fit(x_train,y_train,validation_data=(x_test,y_test),epochs=10)"
      ],
      "metadata": {
        "colab": {
          "base_uri": "https://localhost:8080/"
        },
        "id": "S_UFmtxlPsak",
        "outputId": "1de13292-9ea0-4e67-d7af-b57a5253a36a"
      },
      "execution_count": 8,
      "outputs": [
        {
          "output_type": "stream",
          "name": "stdout",
          "text": [
            "Epoch 1/10\n",
            "1875/1875 [==============================] - 6s 3ms/step - loss: 0.2965 - accuracy: 0.9144 - val_loss: 0.1460 - val_accuracy: 0.9581\n",
            "Epoch 2/10\n",
            "1875/1875 [==============================] - 5s 3ms/step - loss: 0.1439 - accuracy: 0.9575 - val_loss: 0.0993 - val_accuracy: 0.9696\n",
            "Epoch 3/10\n",
            "1875/1875 [==============================] - 5s 3ms/step - loss: 0.1080 - accuracy: 0.9669 - val_loss: 0.0843 - val_accuracy: 0.9729\n",
            "Epoch 4/10\n",
            "1875/1875 [==============================] - 5s 3ms/step - loss: 0.0884 - accuracy: 0.9725 - val_loss: 0.0804 - val_accuracy: 0.9759\n",
            "Epoch 5/10\n",
            "1875/1875 [==============================] - 5s 3ms/step - loss: 0.0766 - accuracy: 0.9756 - val_loss: 0.0746 - val_accuracy: 0.9771\n",
            "Epoch 6/10\n",
            "1875/1875 [==============================] - 5s 3ms/step - loss: 0.0667 - accuracy: 0.9797 - val_loss: 0.0685 - val_accuracy: 0.9803\n",
            "Epoch 7/10\n",
            "1875/1875 [==============================] - 6s 3ms/step - loss: 0.0598 - accuracy: 0.9806 - val_loss: 0.0680 - val_accuracy: 0.9797\n",
            "Epoch 8/10\n",
            "1875/1875 [==============================] - 5s 3ms/step - loss: 0.0525 - accuracy: 0.9828 - val_loss: 0.0700 - val_accuracy: 0.9811\n",
            "Epoch 9/10\n",
            "1875/1875 [==============================] - 5s 3ms/step - loss: 0.0482 - accuracy: 0.9849 - val_loss: 0.0735 - val_accuracy: 0.9783\n",
            "Epoch 10/10\n",
            "1875/1875 [==============================] - 5s 3ms/step - loss: 0.0441 - accuracy: 0.9856 - val_loss: 0.0681 - val_accuracy: 0.9805\n"
          ]
        }
      ]
    },
    {
      "cell_type": "markdown",
      "source": [
        "6.visiualizing the model"
      ],
      "metadata": {
        "id": "0Fh6XBEbQqZ1"
      }
    },
    {
      "cell_type": "code",
      "source": [
        "import matplotlib.pyplot as plt\n",
        "plt.plot(r.history['loss'],label ='loss')\n",
        "plt.plot(r.history['val_loss'], label ='val_loss')\n",
        "plt.legend()"
      ],
      "metadata": {
        "colab": {
          "base_uri": "https://localhost:8080/",
          "height": 282
        },
        "id": "q4kX8DxHQM-L",
        "outputId": "b92c71f0-e27a-4b67-ef87-bf59f4cdf72f"
      },
      "execution_count": 12,
      "outputs": [
        {
          "output_type": "execute_result",
          "data": {
            "text/plain": [
              "<matplotlib.legend.Legend at 0x7fe93b11b5d0>"
            ]
          },
          "metadata": {},
          "execution_count": 12
        },
        {
          "output_type": "display_data",
          "data": {
            "text/plain": [
              "<Figure size 432x288 with 1 Axes>"
            ],
            "image/png": "[encoded data removed]"
          },
          "metadata": {
            "needs_background": "light"
          }
        }
      ]
    },
    {
      "cell_type": "code",
      "source": [
        "import matplotlib.pyplot as plt\n",
        "plt.plot(r.history['accuracy'],label ='acc')\n",
        "plt.plot(r.history['val_accuracy'], label ='val_acc')\n",
        "plt.legend()"
      ],
      "metadata": {
        "colab": {
          "base_uri": "https://localhost:8080/",
          "height": 282
        },
        "id": "GQFAdvYwRVHw",
        "outputId": "75542098-15da-4609-a7b3-97459a417331"
      },
      "execution_count": 13,
      "outputs": [
        {
          "output_type": "execute_result",
          "data": {
            "text/plain": [
              "<matplotlib.legend.Legend at 0x7fe93b0cb110>"
            ]
          },
          "metadata": {},
          "execution_count": 13
        },
        {
          "output_type": "display_data",
          "data": {
            "text/plain": [
              "<Figure size 432x288 with 1 Axes>"
            ],
            "image/png": "[encoded data removed]"
          },
          "metadata": {
            "needs_background": "light"
          }
        }
      ]
    }
  ]
}